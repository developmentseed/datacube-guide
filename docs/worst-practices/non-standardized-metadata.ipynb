{
 "cells": [
  {
   "cell_type": "markdown",
   "id": "3972dd11-7a01-4e2b-b05a-2182e539c204",
   "metadata": {},
   "source": [
    "# Non-standardized metadata\n",
    "\n",
    "Data and metadata standardization is essential for interoperability. For example, following the [climate and forecast (CF) conventions](https://cfconventions.org/) where applicable ensures people to use the data in a wide range of software libraries and applications including GDAL, Xarray, QGIS, ArcGIS, THREDDS, Iris, CGO, and Microsoft Planetary Computer Pro's tiling service."
   ]
  }
 ],
 "metadata": {
  "kernelspec": {
   "display_name": "project",
   "language": "python",
   "name": "project"
  },
  "language_info": {
   "codemirror_mode": {
    "name": "ipython",
    "version": 3
   },
   "file_extension": ".py",
   "mimetype": "text/x-python",
   "name": "python",
   "nbconvert_exporter": "python",
   "pygments_lexer": "ipython3",
   "version": "3.13.5"
  }
 },
 "nbformat": 4,
 "nbformat_minor": 5
}
