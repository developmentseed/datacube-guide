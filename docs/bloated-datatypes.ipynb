{
 "cells": [
  {
   "cell_type": "markdown",
   "id": "90493de8-d7fb-4eba-9655-a986e4417443",
   "metadata": {},
   "source": [
    "# Bloated datatypes\n",
    "\n",
    "There are multiple reasons to avoid larger datatypes than necessary:\n",
    "\n",
    "- Increased storage costs associated with storing more data than necessary.\n",
    "- Slower performance and more egress costs than necessary due to more data transfer over the wire than necessary.\n",
    "- Can introduce unnecessary numerical rounding issues if using floats where integer representations are sufficient."
   ]
  }
 ],
 "metadata": {
  "kernelspec": {
   "display_name": "project",
   "language": "python",
   "name": "project"
  },
  "language_info": {
   "codemirror_mode": {
    "name": "ipython",
    "version": 3
   },
   "file_extension": ".py",
   "mimetype": "text/x-python",
   "name": "python",
   "nbconvert_exporter": "python",
   "pygments_lexer": "ipython3",
   "version": "3.13.5"
  }
 },
 "nbformat": 4,
 "nbformat_minor": 5
}
