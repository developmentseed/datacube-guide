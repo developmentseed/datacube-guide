{
 "cells": [
  {
   "cell_type": "markdown",
   "id": "51731e52",
   "metadata": {},
   "source": [
    "# Worst practice: too big of a chunk size\n",
    "\n",
    "Too large of a chunk size can lead to inefficient memory usage and performance issues, especially when processing large datasets. \n"
   ]
  }
 ],
 "metadata": {
  "language_info": {
   "name": "python"
  }
 },
 "nbformat": 4,
 "nbformat_minor": 5
}
