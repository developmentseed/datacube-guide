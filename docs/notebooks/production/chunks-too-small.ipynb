{
 "cells": [
  {
   "cell_type": "markdown",
   "id": "6cf41d80",
   "metadata": {},
   "source": [
    "# Worst practice: too small of a chunk size\n",
    "\n",
    "Too small of a chunk size can lead to excessive overhead and poor performance."
   ]
  }
 ],
 "metadata": {
  "language_info": {
   "name": "python"
  }
 },
 "nbformat": 4,
 "nbformat_minor": 5
}
