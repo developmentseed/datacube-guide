{
 "cells": [
  {
   "cell_type": "markdown",
   "id": "ae1dd17e",
   "metadata": {},
   "source": [
    "# Worst practice: dispersed metadata\n",
    "\n",
    "It is essential to chose a data format that allows you to store metadata in a consistent format and location, which can be loaded by a single read operation and provides addresses for the data blocks."
   ]
  },
  {
   "cell_type": "markdown",
   "id": "df6cd73c",
   "metadata": {},
   "source": []
  }
 ],
 "metadata": {
  "language_info": {
   "name": "python"
  }
 },
 "nbformat": 4,
 "nbformat_minor": 5
}
