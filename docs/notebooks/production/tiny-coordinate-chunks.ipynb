{
 "cells": [
  {
   "cell_type": "markdown",
   "id": "b0a9ab97",
   "metadata": {},
   "source": [
    "# Worst practice: many chunks for datacube coordinates\n",
    "\n",
    "Datacube concatenation can lead to many chunks for coordinates, which can cause performance issues."
   ]
  },
  {
   "cell_type": "markdown",
   "id": "0afbeec8",
   "metadata": {},
   "source": []
  }
 ],
 "metadata": {
  "language_info": {
   "name": "python"
  }
 },
 "nbformat": 4,
 "nbformat_minor": 5
}
