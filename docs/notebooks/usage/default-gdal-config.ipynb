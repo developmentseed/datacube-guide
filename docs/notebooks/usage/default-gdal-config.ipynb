{
 "cells": [
  {
   "cell_type": "markdown",
   "id": "bb985ee9",
   "metadata": {},
   "source": [
    "# Worst practice: using GDAL's default configuration with blob storage"
   ]
  },
  {
   "cell_type": "markdown",
   "id": "db92abe3",
   "metadata": {},
   "source": []
  }
 ],
 "metadata": {
  "language_info": {
   "name": "python"
  }
 },
 "nbformat": 4,
 "nbformat_minor": 5
}
