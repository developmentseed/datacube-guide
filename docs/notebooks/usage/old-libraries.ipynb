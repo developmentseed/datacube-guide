{
 "cells": [
  {
   "cell_type": "markdown",
   "id": "6ae1df3b",
   "metadata": {},
   "source": [
    "# Worst practice: using very old versions of libraries"
   ]
  },
  {
   "cell_type": "markdown",
   "id": "87bb4953",
   "metadata": {},
   "source": []
  }
 ],
 "metadata": {
  "language_info": {
   "name": "python"
  }
 },
 "nbformat": 4,
 "nbformat_minor": 5
}
