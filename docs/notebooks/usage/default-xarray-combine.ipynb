{
 "cells": [
  {
   "cell_type": "markdown",
   "id": "a1695bf1",
   "metadata": {},
   "source": [
    "# Worst practice: using xarray's default concatenation parameters"
   ]
  },
  {
   "cell_type": "markdown",
   "id": "b860eecb",
   "metadata": {},
   "source": []
  }
 ],
 "metadata": {
  "language_info": {
   "name": "python"
  }
 },
 "nbformat": 4,
 "nbformat_minor": 5
}
