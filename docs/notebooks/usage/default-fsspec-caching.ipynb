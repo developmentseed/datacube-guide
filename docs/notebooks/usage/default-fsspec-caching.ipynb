{
 "cells": [
  {
   "cell_type": "markdown",
   "id": "d538b283",
   "metadata": {},
   "source": [
    "# Worst practice: using fsspec's default caching for datacubes"
   ]
  },
  {
   "cell_type": "markdown",
   "id": "789f2ef3",
   "metadata": {},
   "source": []
  }
 ],
 "metadata": {
  "language_info": {
   "name": "python"
  }
 },
 "nbformat": 4,
 "nbformat_minor": 5
}
