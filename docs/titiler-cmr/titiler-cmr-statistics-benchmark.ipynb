{
 "cells": [
  {
   "cell_type": "markdown",
   "id": "b44dbc99",
   "metadata": {},
   "source": [
    "# TiTiler-CMR: Statistics Benchmarking\n",
    "\n",
    "This notebook shows how to benchmark the `/timeseries/statistics` endpoint of a TiTiler-CMR deployment and understand how performance varies under different parameters. \n",
    "\n",
    "In Titiler-CMR, the `/timeseries/statistics` endpoint computes statistics for all points/intervals along a timeseries and over a specified geometry. The performance of this endpoint can vary based on several factors that we will explore in this notebook.\n",
    "\n",
    "-----------------------------------\n",
    "\n",
    "**In this notebook, you'll learn**:\n",
    "\n",
    "- How to benchmark the `/timeseries/statistics` endpoint across different parameters\n",
    "- What factors impact the performance of the `/timeseries/statistics` endpoint in TiTiler-CMR\n",
    "- Tips on how to use the endpoint effectively to avoid any timeouts or performance issues"
   ]
  },
  {
   "cell_type": "code",
   "execution_count": 1,
   "id": "18a0edb6-7220-4910-854d-3b07d4e4f417",
   "metadata": {},
   "outputs": [],
   "source": [
    "import pandas as pd\n",
    "import httpx\n",
    "from geojson_pydantic import Feature, Polygon\n",
    "import json\n",
    "\n",
    "from datacube_benchmark.titiler_cmr_benchmark import (\n",
    "    DatasetParams,\n",
    "    benchmark_statistics,\n",
    "    create_bbox_feature,\n",
    ")\n",
    "\n",
    "endpoint = \"https://staging.openveda.cloud/api/titiler-cmr\""
   ]
  },
  {
   "cell_type": "markdown",
   "id": "3bb768a9",
   "metadata": {},
   "source": [
    "### Introduction\n",
    "\n",
    "The `/timeseries/statistics` endpoint will produce summary statistics for an AOI for all points along a timeseries. This typically involves reading multiple granules, performing reprojection/resampling/mosaicking, and then computing statistics over the specified area of interest .\n",
    "\n",
    "This endpoint returns a GeoJSON FeatureCollection with statistics for each time point in the timeseries.\n",
    "\n",
    "\n",
    "The performance of this endpoint can vary based on several factors, including:\n",
    "- The size and complexity of the geometry (e.g., a small polygon vs a large bounding box)\n",
    "- The number of granules that need to be read and processed to cover the geometry\n",
    "- The length of the time series (i.e., how many time points i.e. granules)\n"
   ]
  },
  {
   "cell_type": "markdown",
   "id": "034cd95c",
   "metadata": {},
   "source": [
    "We want to define the parameters for the CMR dataset we want to benchmark. The `DatasetParams` class encapsulates all the necessary information to interact with a specific dataset via TiTiler-CMR.\n"
   ]
  },
  {
   "cell_type": "code",
   "execution_count": 2,
   "id": "4e7a8f91-ce75-4afc-85de-b1a6b4b0f48d",
   "metadata": {},
   "outputs": [],
   "source": [
    "concept_id = \"C2723754864-GES_DISC\"\n",
    "backend = \"xarray\"\n",
    "datetime_range = \"2022-03-01T00:00:01Z/2022-03-01T23:59:59Z\"\n",
    "variable = \"precipitation\"\n",
    "step = \"P1D\"\n",
    "temporal_mode = \"point\"\n",
    "\n",
    "\n",
    "ds_xarray = DatasetParams(\n",
    "    concept_id=concept_id,\n",
    "    backend=backend,\n",
    "    datetime_range=datetime_range,\n",
    "    variable=variable,\n",
    "    step=step,\n",
    "    temporal_mode=temporal_mode,\n",
    ")\n",
    "\n"
   ]
  },
  {
   "cell_type": "markdown",
   "id": "bd0861dc",
   "metadata": {},
   "source": [
    "### GeoJson Feature\n",
    "\n",
    "The `/timeseries/statistics` endpoint requires a GeoJSON `Feature` or `FeatureCollection` to define the area over which statistics will be computed.\n",
    "\n",
    "The `create_bbox_feature` function can be used to create a bounding box feature.\n"
   ]
  },
  {
   "cell_type": "markdown",
   "id": "6e94b767",
   "metadata": {},
   "source": [
    "`benchmark_statistics` is a wrapper function that runs the benchmark for the `/timeseries/statistics` endpoint and returns a DataFrame with the results including the statistics computed and the time taken for each request.\n",
    "\n",
    "Here is an example of how to use it:"
   ]
  },
  {
   "cell_type": "code",
   "execution_count": 3,
   "id": "627eca1c",
   "metadata": {},
   "outputs": [
    {
     "name": "stdout",
     "output_type": "stream",
     "text": [
      "=== TiTiler-CMR Statistics Benchmark ===\n",
      "Client: 2 physical / 4 logical cores | RAM: 30.89 GiB\n",
      "Dataset: C2723754864-GES_DISC (xarray)\n",
      "Statistics result:\n",
      "  Success: True\n",
      "  Elapsed: 1.74s\n",
      "  Timesteps: 1\n"
     ]
    }
   ],
   "source": [
    "gulf_geometry = create_bbox_feature(-98.676, 18.857, -81.623, 31.097)\n",
    "stats_result = await benchmark_statistics(\n",
    "    endpoint=endpoint,\n",
    "    dataset=ds_xarray,\n",
    "    geometry=gulf_geometry,\n",
    "    timeout_s=300.0,\n",
    ")\n",
    "print(\"Statistics result:\")\n",
    "print(f\"  Success: {stats_result['success']}\")\n",
    "print(f\"  Elapsed: {stats_result['elapsed_s']:.2f}s\")\n",
    "print(f\"  Timesteps: {stats_result['n_timesteps']}\")\n"
   ]
  },
  {
   "cell_type": "markdown",
   "id": "4dadd078",
   "metadata": {},
   "source": [
    "You can also access the statistics output from the endpoint easily: `stats_result['statistics']`"
   ]
  },
  {
   "cell_type": "code",
   "execution_count": 4,
   "id": "816e47f2",
   "metadata": {},
   "outputs": [
    {
     "name": "stdout",
     "output_type": "stream",
     "text": [
      "  Statistics:\n",
      "{\n",
      "  \"2022-03-01T00:00:01+00:00\": {\n",
      "    \"2022-03-01T00:00:00.000000000\": {\n",
      "      \"min\": 0.0,\n",
      "      \"max\": 42.82999801635742,\n",
      "      \"mean\": 0.3393020033836365,\n",
      "      \"count\": 20898.5,\n",
      "      \"sum\": 7090.90283203125,\n",
      "      \"std\": 1.9955874881629714,\n",
      "      \"median\": 0.0,\n",
      "      \"majority\": 0.0,\n",
      "      \"minority\": 0.044999994337558746,\n",
      "      \"unique\": 1347.0,\n",
      "      \"histogram\": [\n",
      "        [\n",
      "          20614,\n",
      "          232,\n",
      "          65,\n",
      "          46,\n",
      "          20,\n",
      "          19,\n",
      "          14,\n",
      "          16,\n",
      "          4,\n",
      "          3\n",
      "        ],\n",
      "        [\n",
      "          0.0,\n",
      "          4.2829999923706055,\n",
      "          8.565999984741211,\n",
      "          12.848999977111816,\n",
      "          17.131999969482422,\n",
      "          21.415000915527344,\n",
      "          25.697999954223633,\n",
      "          29.980998992919922,\n",
      "          34.263999938964844,\n",
      "          38.547000885009766,\n",
      "          42.82999801635742\n",
      "        ]\n",
      "      ],\n",
      "      \"valid_percent\": 100.0,\n",
      "      \"masked_pixels\": 0.0,\n",
      "      \"valid_pixels\": 21033.0,\n",
      "      \"percentile_2\": 0.0,\n",
      "      \"percentile_98\": 4.244999885559082\n",
      "    }\n",
      "  }\n",
      "}\n"
     ]
    }
   ],
   "source": [
    "print(f\"  Statistics:\")\n",
    "print (json.dumps(stats_result['statistics'], indent=2))"
   ]
  },
  {
   "cell_type": "markdown",
   "id": "65b82762",
   "metadata": {},
   "source": [
    "The statistics results typically include several useful metrics for all points/intervals along a timeseries:\n",
    "- min, max, mean, count, sum\n",
    "- valid pixels, masked pixels, valid percentage\n",
    "- percentiles (e.g., 98th percentile), data distribution histogram, unique values, median, std"
   ]
  },
  {
   "cell_type": "markdown",
   "id": "7629d9b2",
   "metadata": {},
   "source": [
    "Now, we want to test how the size of the geometry affects performance. We’ll use square bounding boxes centered on a chosen point and increase the edge length (degrees) to see how it impacts the response time. \n"
   ]
  },
  {
   "cell_type": "code",
   "execution_count": 5,
   "id": "93b4b413",
   "metadata": {},
   "outputs": [],
   "source": [
    "def bbox_square_feature(center_lon: float, center_lat: float, edge_deg: float):\n",
    "    \"\"\"\n",
    "    Build a square bbox Feature of size edge_deg × edge_deg centered at (lon, lat).\n",
    "    \"\"\"\n",
    "    half = edge_deg / 2.0\n",
    "    min_lon, min_lat = center_lon - half, center_lat - half\n",
    "    max_lon, max_lat = center_lon + half, center_lat + half\n",
    "    return create_bbox_feature(min_lon, min_lat, max_lon, max_lat)\n",
    "\n",
    "center_lon, center_lat = -95.0, 29.0  # Houston-ish\n",
    "edge_sizes_deg = [0.1, 0.5, 1, 5.0, 10.0, 15.0, 20.0, ]  # caution: large areas may time out for high-res products\n"
   ]
  },
  {
   "cell_type": "code",
   "execution_count": 6,
   "id": "0342aa32",
   "metadata": {},
   "outputs": [
    {
     "name": "stdout",
     "output_type": "stream",
     "text": [
      "=== TiTiler-CMR Statistics Benchmark ===\n",
      "Client: 2 physical / 4 logical cores | RAM: 30.89 GiB\n",
      "Dataset: C2723754864-GES_DISC (xarray)\n",
      "Statistics result:\n",
      "  Success: True\n",
      "  Elapsed: 1.34s\n",
      "  Timesteps: 1\n",
      "  Statistics: {'2022-03-01T00:00:01+00:00': {'2022-03-01T00:00:00.000000000': {'min': 0.0, 'max': 0.07999999821186066, 'mean': 0.0004625000001396984, 'count': 400.0, 'sum': 0.1850000023841858, 'std': 0.004896283380458125, 'median': 0.0, 'majority': 0.0, 'minority': 0.004999999888241291, 'unique': 7.0, 'histogram': [[395, 2, 0, 1, 0, 1, 0, 0, 0, 1], [0.0, 0.007999999448657036, 0.01599999889731407, 0.023999998345971107, 0.03199999779462814, 0.03999999910593033, 0.047999996691942215, 0.0559999942779541, 0.06399999558925629, 0.07199999690055847, 0.07999999821186066]], 'valid_percent': 100.0, 'masked_pixels': 20.0, 'valid_pixels': 400.0, 'percentile_2': 0.0, 'percentile_98': 0.0}}}\n"
     ]
    }
   ],
   "source": [
    "geom = bbox_square_feature(center_lon, center_lat, 2)\n",
    "stats_result = await benchmark_statistics(\n",
    "    endpoint=endpoint,\n",
    "    dataset=ds_xarray,\n",
    "    geometry=geom,\n",
    "    timeout_s=300.0,\n",
    ")\n",
    "print(\"Statistics result:\")\n",
    "print(f\"  Success: {stats_result['success']}\")\n",
    "print(f\"  Elapsed: {stats_result['elapsed_s']:.2f}s\")\n",
    "print(f\"  Timesteps: {stats_result['n_timesteps']}\")\n",
    "print(f\"  Statistics: {stats_result['statistics']}\")"
   ]
  },
  {
   "cell_type": "code",
   "execution_count": 7,
   "id": "be8dc2ba",
   "metadata": {},
   "outputs": [
    {
     "name": "stdout",
     "output_type": "stream",
     "text": [
      "=== TiTiler-CMR Statistics Benchmark ===\n",
      "Client: 2 physical / 4 logical cores | RAM: 30.89 GiB\n",
      "Dataset: C2723754864-GES_DISC (xarray)\n",
      "Statistics result:\n",
      "  Success: True\n",
      "  Elapsed: 1.28s\n",
      "  Timesteps: 1\n",
      "  Statistics: {'2022-03-01T00:00:01+00:00': {'2022-03-01T00:00:00.000000000': {'min': 0.0, 'max': 3.1050000190734863, 'mean': 0.018581999465823174, 'count': 10000.0, 'sum': 185.8199920654297, 'std': 0.10929711157096253, 'median': 0.0, 'majority': 0.0, 'minority': 0.029999997466802597, 'unique': 217.0, 'histogram': [[9812, 114, 37, 24, 6, 4, 1, 1, 0, 1], [0.0, 0.31049999594688416, 0.6209999918937683, 0.9314999580383301, 1.2419999837875366, 1.5525000095367432, 1.8629999160766602, 2.1735000610351562, 2.4839999675750732, 2.7944998741149902, 3.1050000190734863]], 'valid_percent': 100.0, 'masked_pixels': 100.0, 'valid_pixels': 10000.0, 'percentile_2': 0.0, 'percentile_98': 0.29499998688697815}}}\n"
     ]
    }
   ],
   "source": [
    "geom = bbox_square_feature(center_lon, center_lat, 10)\n",
    "stats_result = await benchmark_statistics(\n",
    "    endpoint=endpoint,\n",
    "    dataset=ds_xarray,\n",
    "    geometry=geom,\n",
    "    timeout_s=300.0,\n",
    ")\n",
    "print(\"Statistics result:\")\n",
    "print(f\"  Success: {stats_result['success']}\")\n",
    "print(f\"  Elapsed: {stats_result['elapsed_s']:.2f}s\")\n",
    "print(f\"  Timesteps: {stats_result['n_timesteps']}\")\n",
    "print(f\"  Statistics: {stats_result['statistics']}\")"
   ]
  },
  {
   "cell_type": "code",
   "execution_count": 8,
   "id": "71ae0808",
   "metadata": {},
   "outputs": [
    {
     "name": "stdout",
     "output_type": "stream",
     "text": [
      "=== TiTiler-CMR Statistics Benchmark ===\n",
      "Client: 2 physical / 4 logical cores | RAM: 30.89 GiB\n",
      "Dataset: C2723754864-GES_DISC (xarray)\n",
      "Statistics result:\n",
      "  Success: True\n",
      "  Elapsed: 3.19s\n",
      "  Timesteps: 1\n",
      "  Statistics: {'2022-03-01T00:00:01+00:00': {'2022-03-01T00:00:00.000000000': {'min': 0.0, 'max': 42.82999801635742, 'mean': 0.15982724726200104, 'count': 40000.0, 'sum': 6393.08984375, 'std': 1.4203556033267632, 'median': 0.0, 'majority': 0.0, 'minority': 0.044999994337558746, 'unique': 1181.0, 'histogram': [[39645, 181, 53, 45, 20, 19, 14, 16, 4, 3], [0.0, 4.2829999923706055, 8.565999984741211, 12.848999977111816, 17.131999969482422, 21.415000915527344, 25.697999954223633, 29.980998992919922, 34.263999938964844, 38.547000885009766, 42.82999801635742]], 'valid_percent': 100.0, 'masked_pixels': 200.0, 'valid_pixels': 40000.0, 'percentile_2': 0.0, 'percentile_98': 1.3799999952316284}}}\n"
     ]
    }
   ],
   "source": [
    "geom = bbox_square_feature(center_lon, center_lat, 20)\n",
    "stats_result = await benchmark_statistics(\n",
    "    endpoint=endpoint,\n",
    "    dataset=ds_xarray,\n",
    "    geometry=geom,\n",
    "    timeout_s=300.0,\n",
    ")\n",
    "print(\"Statistics result:\")\n",
    "print(f\"  Success: {stats_result['success']}\")\n",
    "print(f\"  Elapsed: {stats_result['elapsed_s']:.2f}s\")\n",
    "print(f\"  Timesteps: {stats_result['n_timesteps']}\")\n",
    "print(f\"  Statistics: {stats_result['statistics']}\")"
   ]
  },
  {
   "cell_type": "markdown",
   "id": "d712d82c",
   "metadata": {},
   "source": [
    "Now, let's run the benchmark for each geometry size and collect the results.\n"
   ]
  },
  {
   "cell_type": "code",
   "execution_count": 9,
   "id": "2d02f67a",
   "metadata": {},
   "outputs": [],
   "source": [
    "async def run_stats_benchmark_for_sizes(\n",
    "    ds: DatasetParams,\n",
    "    edge_sizes:[],\n",
    "    *,\n",
    "    endpoint: str,\n",
    "    center_lon: float,\n",
    "    center_lat: float,\n",
    "    timeout_s: float = 180.0,\n",
    ") -> pd.DataFrame:\n",
    "    rows = []\n",
    "    for edge in edge_sizes:\n",
    "        geom = bbox_square_feature(center_lon, center_lat, edge)\n",
    "        out = await benchmark_statistics(\n",
    "            endpoint=endpoint,\n",
    "            dataset=ds,\n",
    "            geometry=geom,\n",
    "            timeout_s=timeout_s,\n",
    "        )\n",
    "        rows.append({\n",
    "            \"backend\": ds.backend,\n",
    "            \"concept_id\": ds.concept_id,\n",
    "            \"edge_deg\": edge,\n",
    "            \"success\": out.get(\"success\", False),\n",
    "            \"status_code\": out.get(\"status_code\", None),\n",
    "            \"elapsed_s\": out.get(\"elapsed_s\", None),\n",
    "            \"n_timesteps\": out.get(\"n_timesteps\", 0),\n",
    "        })\n",
    "    return pd.DataFrame(rows)"
   ]
  },
  {
   "cell_type": "code",
   "execution_count": 10,
   "id": "1eeda52c",
   "metadata": {},
   "outputs": [
    {
     "name": "stdout",
     "output_type": "stream",
     "text": [
      "=== TiTiler-CMR Statistics Benchmark ===\n",
      "Client: 2 physical / 4 logical cores | RAM: 30.89 GiB\n",
      "Dataset: C2723754864-GES_DISC (xarray)\n",
      "=== TiTiler-CMR Statistics Benchmark ===\n",
      "Client: 2 physical / 4 logical cores | RAM: 30.89 GiB\n",
      "Dataset: C2723754864-GES_DISC (xarray)\n",
      "=== TiTiler-CMR Statistics Benchmark ===\n",
      "Client: 2 physical / 4 logical cores | RAM: 30.89 GiB\n",
      "Dataset: C2723754864-GES_DISC (xarray)\n",
      "=== TiTiler-CMR Statistics Benchmark ===\n",
      "Client: 2 physical / 4 logical cores | RAM: 30.89 GiB\n",
      "Dataset: C2723754864-GES_DISC (xarray)\n",
      "=== TiTiler-CMR Statistics Benchmark ===\n",
      "Client: 2 physical / 4 logical cores | RAM: 30.89 GiB\n",
      "Dataset: C2723754864-GES_DISC (xarray)\n",
      "=== TiTiler-CMR Statistics Benchmark ===\n",
      "Client: 2 physical / 4 logical cores | RAM: 30.89 GiB\n",
      "Dataset: C2723754864-GES_DISC (xarray)\n",
      "=== TiTiler-CMR Statistics Benchmark ===\n",
      "Client: 2 physical / 4 logical cores | RAM: 30.89 GiB\n",
      "Dataset: C2723754864-GES_DISC (xarray)\n"
     ]
    },
    {
     "data": {
      "text/html": [
       "<div>\n",
       "<style scoped>\n",
       "    .dataframe tbody tr th:only-of-type {\n",
       "        vertical-align: middle;\n",
       "    }\n",
       "\n",
       "    .dataframe tbody tr th {\n",
       "        vertical-align: top;\n",
       "    }\n",
       "\n",
       "    .dataframe thead th {\n",
       "        text-align: right;\n",
       "    }\n",
       "</style>\n",
       "<table border=\"1\" class=\"dataframe\">\n",
       "  <thead>\n",
       "    <tr style=\"text-align: right;\">\n",
       "      <th></th>\n",
       "      <th>backend</th>\n",
       "      <th>concept_id</th>\n",
       "      <th>edge_deg</th>\n",
       "      <th>success</th>\n",
       "      <th>status_code</th>\n",
       "      <th>elapsed_s</th>\n",
       "      <th>n_timesteps</th>\n",
       "    </tr>\n",
       "  </thead>\n",
       "  <tbody>\n",
       "    <tr>\n",
       "      <th>0</th>\n",
       "      <td>xarray</td>\n",
       "      <td>C2723754864-GES_DISC</td>\n",
       "      <td>0.1</td>\n",
       "      <td>True</td>\n",
       "      <td>200</td>\n",
       "      <td>1.604297</td>\n",
       "      <td>1</td>\n",
       "    </tr>\n",
       "    <tr>\n",
       "      <th>1</th>\n",
       "      <td>xarray</td>\n",
       "      <td>C2723754864-GES_DISC</td>\n",
       "      <td>0.5</td>\n",
       "      <td>True</td>\n",
       "      <td>200</td>\n",
       "      <td>1.696259</td>\n",
       "      <td>1</td>\n",
       "    </tr>\n",
       "    <tr>\n",
       "      <th>2</th>\n",
       "      <td>xarray</td>\n",
       "      <td>C2723754864-GES_DISC</td>\n",
       "      <td>1.0</td>\n",
       "      <td>True</td>\n",
       "      <td>200</td>\n",
       "      <td>1.322251</td>\n",
       "      <td>1</td>\n",
       "    </tr>\n",
       "    <tr>\n",
       "      <th>3</th>\n",
       "      <td>xarray</td>\n",
       "      <td>C2723754864-GES_DISC</td>\n",
       "      <td>5.0</td>\n",
       "      <td>True</td>\n",
       "      <td>200</td>\n",
       "      <td>1.624505</td>\n",
       "      <td>1</td>\n",
       "    </tr>\n",
       "    <tr>\n",
       "      <th>4</th>\n",
       "      <td>xarray</td>\n",
       "      <td>C2723754864-GES_DISC</td>\n",
       "      <td>10.0</td>\n",
       "      <td>True</td>\n",
       "      <td>200</td>\n",
       "      <td>1.140307</td>\n",
       "      <td>1</td>\n",
       "    </tr>\n",
       "    <tr>\n",
       "      <th>5</th>\n",
       "      <td>xarray</td>\n",
       "      <td>C2723754864-GES_DISC</td>\n",
       "      <td>15.0</td>\n",
       "      <td>True</td>\n",
       "      <td>200</td>\n",
       "      <td>3.155293</td>\n",
       "      <td>1</td>\n",
       "    </tr>\n",
       "    <tr>\n",
       "      <th>6</th>\n",
       "      <td>xarray</td>\n",
       "      <td>C2723754864-GES_DISC</td>\n",
       "      <td>20.0</td>\n",
       "      <td>True</td>\n",
       "      <td>200</td>\n",
       "      <td>1.930063</td>\n",
       "      <td>1</td>\n",
       "    </tr>\n",
       "  </tbody>\n",
       "</table>\n",
       "</div>"
      ],
      "text/plain": [
       "  backend            concept_id  edge_deg  success  status_code  elapsed_s  \\\n",
       "0  xarray  C2723754864-GES_DISC       0.1     True          200   1.604297   \n",
       "1  xarray  C2723754864-GES_DISC       0.5     True          200   1.696259   \n",
       "2  xarray  C2723754864-GES_DISC       1.0     True          200   1.322251   \n",
       "3  xarray  C2723754864-GES_DISC       5.0     True          200   1.624505   \n",
       "4  xarray  C2723754864-GES_DISC      10.0     True          200   1.140307   \n",
       "5  xarray  C2723754864-GES_DISC      15.0     True          200   3.155293   \n",
       "6  xarray  C2723754864-GES_DISC      20.0     True          200   1.930063   \n",
       "\n",
       "   n_timesteps  \n",
       "0            1  \n",
       "1            1  \n",
       "2            1  \n",
       "3            1  \n",
       "4            1  \n",
       "5            1  \n",
       "6            1  "
      ]
     },
     "execution_count": 10,
     "metadata": {},
     "output_type": "execute_result"
    }
   ],
   "source": [
    "df_xr  = await run_stats_benchmark_for_sizes(ds_xarray,  edge_sizes_deg, endpoint=endpoint, center_lon=center_lon, center_lat=center_lat, timeout_s=180.0)\n",
    "\n",
    "df_xr\n"
   ]
  },
  {
   "cell_type": "markdown",
   "id": "679309c6",
   "metadata": {},
   "source": [
    "> **Tip**: If you see timeouts or failures at larger sizes, try smaller AOIs first and/or choose a coarser step."
   ]
  },
  {
   "cell_type": "code",
   "execution_count": 11,
   "id": "17f4cc56",
   "metadata": {},
   "outputs": [
    {
     "data": {
      "image/png": "[encoded data removed]",
      "text/plain": [
       "<Figure size 800x500 with 1 Axes>"
      ]
     },
     "metadata": {},
     "output_type": "display_data"
    }
   ],
   "source": [
    "import matplotlib.pyplot as plt\n",
    "def plot_elapsed_vs_size(df: pd.DataFrame, *, title: str = \"Elapsed time vs geometry size (xarray)\"):\n",
    "    sdf = df.copy()\n",
    "    sdf = sdf[pd.notnull(sdf[\"elapsed_s\"])].sort_values(\"edge_deg\")\n",
    "\n",
    "\n",
    "    fig, ax = plt.subplots(figsize=(8, 5))\n",
    "    ax.plot(sdf[\"edge_deg\"], sdf[\"elapsed_s\"], marker=\"o\")\n",
    "    ax.set_xlabel(\"Square edge size (degrees)\")\n",
    "    ax.set_ylabel(\"Elapsed time (s)\")\n",
    "    ax.set_title(title)\n",
    "    ax.grid(True, axis=\"y\", alpha=0.2)\n",
    "    plt.tight_layout()\n",
    "    return fig, ax\n",
    "\n",
    "\n",
    "_ = plot_elapsed_vs_size(df_xr)\n",
    "plt.show()"
   ]
  },
  {
   "cell_type": "markdown",
   "id": "3771fcf4",
   "metadata": {},
   "source": [
    "### Time Range \n",
    "For statics benchmarking, the number of timesteps matters too. Longer time series (more timesteps) will generally take longer to process. This sweep varies the time window length (number of timesteps) while keeping the geometry size constant to see how that affects performance.\n",
    "\n"
   ]
  },
  {
   "cell_type": "code",
   "execution_count": 12,
   "id": "c18aea10",
   "metadata": {},
   "outputs": [
    {
     "name": "stdout",
     "output_type": "stream",
     "text": [
      "=== TiTiler-CMR Statistics Benchmark ===\n",
      "Client: 2 physical / 4 logical cores | RAM: 30.89 GiB\n",
      "Dataset: C2723754864-GES_DISC (xarray)\n",
      "Statistics result:\n",
      "  Success: True\n",
      "  Elapsed: 13.50s\n",
      "  Timesteps: 2\n",
      "  Statistics: {'2022-03-01T00:00:01+00:00': {'2022-03-01T00:00:00.000000000': {'min': 0.0, 'max': 42.82999801635742, 'mean': 0.3393020033836365, 'count': 20898.5, 'sum': 7090.90283203125, 'std': 1.9955874881629714, 'median': 0.0, 'majority': 0.0, 'minority': 0.044999994337558746, 'unique': 1347.0, 'histogram': [[20614, 232, 65, 46, 20, 19, 14, 16, 4, 3], [0.0, 4.2829999923706055, 8.565999984741211, 12.848999977111816, 17.131999969482422, 21.415000915527344, 25.697999954223633, 29.980998992919922, 34.263999938964844, 38.547000885009766, 42.82999801635742]], 'valid_percent': 100.0, 'masked_pixels': 0.0, 'valid_pixels': 21033.0, 'percentile_2': 0.0, 'percentile_98': 4.244999885559082}}, '2022-03-08T00:00:01+00:00': {'2022-03-08T00:00:00.000000000': {'min': 0.0, 'max': 42.36000061035156, 'mean': 0.9508299827575684, 'count': 20898.5, 'sum': 19870.919921875, 'std': 3.2417449281425865, 'median': 0.0, 'majority': 0.0, 'minority': 0.03999999538064003, 'unique': 2620.0, 'histogram': [[19621, 719, 300, 172, 89, 58, 36, 24, 10, 4], [0.0, 4.236000061035156, 8.472000122070312, 12.708000183105469, 16.944000244140625, 21.18000030517578, 25.416000366210938, 29.652000427246094, 33.88800048828125, 38.124000549316406, 42.36000061035156]], 'valid_percent': 100.0, 'masked_pixels': 0.0, 'valid_pixels': 21033.0, 'percentile_2': 0.0, 'percentile_98': 12.290000915527344}}}\n"
     ]
    }
   ],
   "source": [
    "##daily 10 days\n",
    "# Xarray example (e.g., GES_DISC variable)\n",
    "ds_xarray = DatasetParams(\n",
    "    concept_id=\"C2723754864-GES_DISC\",\n",
    "    backend=\"xarray\",\n",
    "    datetime_range=\"2022-03-01T00:00:01Z/2022-03-10T23:59:59Z\",\n",
    "    variable=\"precipitation\",\n",
    "    step=\"P1W\",\n",
    "    temporal_mode=\"point\",\n",
    ")\n",
    "\n",
    "gulf_geometry = create_bbox_feature(-98.676, 18.857, -81.623, 31.097)\n",
    "stats_result = await benchmark_statistics(\n",
    "    endpoint=endpoint,\n",
    "    dataset=ds_xarray,\n",
    "    geometry=gulf_geometry,\n",
    "    timeout_s=300.0,\n",
    ")\n",
    "print(\"Statistics result:\")\n",
    "print(f\"  Success: {stats_result['success']}\")\n",
    "print(f\"  Elapsed: {stats_result['elapsed_s']:.2f}s\")\n",
    "print(f\"  Timesteps: {stats_result['n_timesteps']}\")\n",
    "print(f\"  Statistics: {stats_result['statistics']}\")"
   ]
  },
  {
   "cell_type": "code",
   "execution_count": 13,
   "id": "8a81954f",
   "metadata": {},
   "outputs": [
    {
     "name": "stdout",
     "output_type": "stream",
     "text": [
      "=== TiTiler-CMR Statistics Benchmark ===\n",
      "Client: 2 physical / 4 logical cores | RAM: 30.89 GiB\n",
      "Dataset: C2723754864-GES_DISC (xarray)\n",
      "Statistics result:\n",
      "  Success: True\n",
      "  Elapsed: 22.99s\n",
      "  Timesteps: 8\n",
      "  Statistics: {'2022-03-01T00:00:01+00:00': {'2022-03-01T00:00:00.000000000': {'min': 0.0, 'max': 42.82999801635742, 'mean': 0.3393020033836365, 'count': 20898.5, 'sum': 7090.90283203125, 'std': 1.9955874881629714, 'median': 0.0, 'majority': 0.0, 'minority': 0.044999994337558746, 'unique': 1347.0, 'histogram': [[20614, 232, 65, 46, 20, 19, 14, 16, 4, 3], [0.0, 4.2829999923706055, 8.565999984741211, 12.848999977111816, 17.131999969482422, 21.415000915527344, 25.697999954223633, 29.980998992919922, 34.263999938964844, 38.547000885009766, 42.82999801635742]], 'valid_percent': 100.0, 'masked_pixels': 0.0, 'valid_pixels': 21033.0, 'percentile_2': 0.0, 'percentile_98': 4.244999885559082}}, '2022-03-08T00:00:01+00:00': {'2022-03-08T00:00:00.000000000': {'min': 0.0, 'max': 42.36000061035156, 'mean': 0.9508299827575684, 'count': 20898.5, 'sum': 19870.919921875, 'std': 3.2417449281425865, 'median': 0.0, 'majority': 0.0, 'minority': 0.03999999538064003, 'unique': 2620.0, 'histogram': [[19621, 719, 300, 172, 89, 58, 36, 24, 10, 4], [0.0, 4.236000061035156, 8.472000122070312, 12.708000183105469, 16.944000244140625, 21.18000030517578, 25.416000366210938, 29.652000427246094, 33.88800048828125, 38.124000549316406, 42.36000061035156]], 'valid_percent': 100.0, 'masked_pixels': 0.0, 'valid_pixels': 21033.0, 'percentile_2': 0.0, 'percentile_98': 12.290000915527344}}, '2022-03-15T00:00:01+00:00': {'2022-03-15T00:00:00.000000000': {'min': 0.0, 'max': 174.25502014160156, 'mean': 10.431671142578125, 'count': 20898.5, 'sum': 218006.28125, 'std': 22.99134730243641, 'median': 0.0, 'majority': 0.0, 'minority': 0.05000000447034836, 'unique': 6826.0, 'histogram': [[17249, 1821, 640, 378, 346, 306, 171, 94, 24, 4], [0.0, 17.42550277709961, 34.85100555419922, 52.27650833129883, 69.70201110839844, 87.12751770019531, 104.55301666259766, 121.978515625, 139.40402221679688, 156.82952880859375, 174.25502014160156]], 'valid_percent': 100.0, 'masked_pixels': 0.0, 'valid_pixels': 21033.0, 'percentile_2': 0.0, 'percentile_98': 96.41999816894531}}, '2022-03-22T00:00:01+00:00': {'2022-03-22T00:00:00.000000000': {'min': 0.0, 'max': 113.67498779296875, 'mean': 3.880465507507324, 'count': 20898.5, 'sum': 81095.90625, 'std': 12.315773775585773, 'median': 0.0, 'majority': 0.0, 'minority': 0.07999999076128006, 'unique': 3630.0, 'histogram': [[19041, 713, 387, 299, 231, 178, 119, 44, 16, 5], [0.0, 11.367498397827148, 22.734996795654297, 34.10249328613281, 45.469993591308594, 56.837493896484375, 68.20498657226562, 79.5724868774414, 90.93998718261719, 102.30748748779297, 113.67498779296875]], 'valid_percent': 100.0, 'masked_pixels': 0.0, 'valid_pixels': 21033.0, 'percentile_2': 0.0, 'percentile_98': 53.35499954223633}}, '2022-03-29T00:00:01+00:00': {'2022-03-29T00:00:00.000000000': {'min': 0.0, 'max': 17.045001983642578, 'mean': 0.1486642062664032, 'count': 20898.5, 'sum': 3106.85888671875, 'std': 0.7623889029192605, 'median': 0.0, 'majority': 0.0, 'minority': 0.04500000178813934, 'unique': 999.0, 'histogram': [[20389, 377, 145, 70, 29, 10, 5, 2, 3, 3], [0.0, 1.7045001983642578, 3.4090003967285156, 5.113500595092773, 6.818000793457031, 8.522500991821289, 10.227001190185547, 11.931501388549805, 13.636001586914062, 15.34050178527832, 17.045001983642578]], 'valid_percent': 100.0, 'masked_pixels': 0.0, 'valid_pixels': 21033.0, 'percentile_2': 0.0, 'percentile_98': 2.5299999713897705}}, '2022-04-05T00:00:01+00:00': {'2022-04-05T00:00:00.000000000': {'min': 0.0, 'max': 40.5050048828125, 'mean': 0.5256912112236023, 'count': 20898.5, 'sum': 10986.1572265625, 'std': 2.586293636818602, 'median': 0.0, 'majority': 0.0, 'minority': 0.03999999538064003, 'unique': 1562.0, 'histogram': [[20283, 294, 182, 121, 61, 37, 26, 11, 11, 7], [0.0, 4.050500392913818, 8.101000785827637, 12.151500701904297, 16.202001571655273, 20.25250244140625, 24.303001403808594, 28.35350227355957, 32.40400314331055, 36.45450210571289, 40.5050048828125]], 'valid_percent': 100.0, 'masked_pixels': 0.0, 'valid_pixels': 21033.0, 'percentile_2': 0.0, 'percentile_98': 8.694999694824219}}, '2022-04-12T00:00:01+00:00': {'2022-04-12T00:00:00.000000000': {'min': 0.0, 'max': 64.42500305175781, 'mean': 1.5356361865997314, 'count': 20898.5, 'sum': 32092.4921875, 'std': 5.440761947003824, 'median': 0.0, 'majority': 0.0, 'minority': 0.09499998390674591, 'unique': 2873.0, 'histogram': [[19750, 534, 300, 192, 69, 64, 41, 56, 21, 6], [0.0, 6.442500114440918, 12.885000228881836, 19.327499389648438, 25.770000457763672, 32.212501525878906, 38.654998779296875, 45.09749984741211, 51.540000915527344, 57.98250198364258, 64.42500305175781]], 'valid_percent': 100.0, 'masked_pixels': 0.0, 'valid_pixels': 21033.0, 'percentile_2': 0.0, 'percentile_98': 20.049999237060547}}, '2022-04-19T00:00:01+00:00': {'2022-04-19T00:00:00.000000000': {'min': 0.0, 'max': 11.125, 'mean': 0.10002636164426804, 'count': 20898.5, 'sum': 2090.40087890625, 'std': 0.5136673785690946, 'median': 0.0, 'majority': 0.0, 'minority': 0.06000000238418579, 'unique': 807.0, 'histogram': [[20543, 252, 89, 74, 37, 15, 8, 10, 3, 2], [0.0, 1.1124999523162842, 2.2249999046325684, 3.3374998569488525, 4.449999809265137, 5.5625, 6.674999713897705, 7.78749942779541, 8.899999618530273, 10.012499809265137, 11.125]], 'valid_percent': 100.0, 'masked_pixels': 0.0, 'valid_pixels': 21033.0, 'percentile_2': 0.0, 'percentile_98': 1.274999976158142}}}\n"
     ]
    }
   ],
   "source": [
    "##daily 50 days\n",
    "# Xarray example (e.g., GES_DISC variable)\n",
    "ds_xarray = DatasetParams(\n",
    "    concept_id=\"C2723754864-GES_DISC\",\n",
    "    backend=\"xarray\",\n",
    "    datetime_range=\"2022-03-01T00:00:01Z/2022-04-20T23:59:59Z\",\n",
    "    variable=\"precipitation\",\n",
    "    step=\"P1W\",\n",
    "    temporal_mode=\"point\",\n",
    ")\n",
    "\n",
    "gulf_geometry = create_bbox_feature(-98.676, 18.857, -81.623, 31.097)\n",
    "stats_result = await benchmark_statistics(\n",
    "    endpoint=endpoint,\n",
    "    dataset=ds_xarray,\n",
    "    geometry=gulf_geometry,\n",
    "    timeout_s=300.0,\n",
    ")\n",
    "print(\"Statistics result:\")\n",
    "print(f\"  Success: {stats_result['success']}\")\n",
    "print(f\"  Elapsed: {stats_result['elapsed_s']:.2f}s\")\n",
    "print(f\"  Timesteps: {stats_result['n_timesteps']}\")\n",
    "print(f\"  Statistics: {stats_result['statistics']}\")"
   ]
  },
  {
   "cell_type": "code",
   "execution_count": 14,
   "id": "e9f8159f",
   "metadata": {},
   "outputs": [],
   "source": [
    "## "
   ]
  },
  {
   "cell_type": "markdown",
   "id": "4763b1d6-6051-4c59-8225-911f538b98b8",
   "metadata": {},
   "source": [
    "## Conclusion\n",
    "\n",
    "In this notebook, we explored how to benchmark the `/timeseries/statistics` endpoint of a TiTiler-CMR deployment. We examined how different parameters, such as geometry size and time range, impact the performance of this endpoint.\n",
    "\n",
    "We found that larger geometries and longer time ranges generally lead to increased processing times. \n",
    "\n",
    "In general, for high-resolution datasets with many granules, it's advisable to use smaller AOIs and shorter time ranges to ensure timely responses and avoid timeouts.\n",
    "\n",
    "\n",
    "### Further Reading\n",
    "- [TiTiler-CMR GitHub Repository](https://github.com/cogeotiff/titiler-cmr)\n",
    "- [Titiler-CMR API Documentation](https://staging.openveda.cloud/api/titiler-cmr/api.html#/)\n",
    "- [Earthdata Cloud CMR Datasets](https://cmr.earthdata.nasa.gov/search/site/docs/search/api.html#datasets)\n"
   ]
  },
  {
   "cell_type": "code",
   "execution_count": null,
   "id": "ca780c80",
   "metadata": {},
   "outputs": [],
   "source": []
  }
 ],
 "metadata": {
  "kernelspec": {
   "display_name": "datacube-titiler",
   "language": "python",
   "name": "datacube-titiler"
  },
  "language_info": {
   "codemirror_mode": {
    "name": "ipython",
    "version": 3
   },
   "file_extension": ".py",
   "mimetype": "text/x-python",
   "name": "python",
   "nbconvert_exporter": "python",
   "pygments_lexer": "ipython3",
   "version": "3.13.5"
  }
 },
 "nbformat": 4,
 "nbformat_minor": 5
}
